{
 "cells": [
  {
   "cell_type": "code",
   "execution_count": null,
   "id": "763af705",
   "metadata": {
    "vscode": {
     "languageId": "plaintext"
    }
   },
   "outputs": [],
   "source": [
    "import tensorflow as tf\n",
    "import numpy as np\n",
    "\n",
    "def load_model(model_path=\"best_soil_model_tf.h5\"):\n",
    "    model = tf.keras.models.load_model(model_path)\n",
    "    return model\n",
    "\n",
    "def preprocess_image(image_path, img_size=(300, 300)):\n",
    "    img = tf.keras.preprocessing.image.load_img(image_path, target_size=img_size)\n",
    "    img_array = tf.keras.preprocessing.image.img_to_array(img)\n",
    "    img_array = img_array / 255.0\n",
    "    img_array = np.expand_dims(img_array, axis=0)  # batch dimension\n",
    "    return img_array\n",
    "\n",
    "def predict_image(model, image_path, img_size=(300, 300)):\n",
    "    img = preprocess_image(image_path, img_size)\n",
    "    pred = model.predict(img)[0][0]\n",
    "    label = 1 if pred > 0.5 else 0\n",
    "    return label, pred\n",
    "\n",
    "def predict_batch(model, image_paths, img_size=(300, 300)):\n",
    "    images = [preprocess_image(p, img_size)[0] for p in image_paths]\n",
    "    images = np.array(images)\n",
    "    preds = model.predict(images).flatten()\n",
    "    labels = (preds > 0.5).astype(int)\n",
    "    return labels, preds\n",
    "\n",
    "if __name__ == \"__main__\":\n",
    "    model = load_model(\"best_soil_model_tf.h5\")\n",
    "    test_images = [\"path/to/image1.jpg\", \"path/to/image2.jpg\"]  # replace with your images\n",
    "\n",
    "    labels, preds = predict_batch(model, test_images)\n",
    "    for path, label, prob in zip(test_images, labels, preds):\n",
    "        print(f\"Image: {path} --> Predicted label: {label} (Prob: {prob:.3f})\")\n"
   ]
  }
 ],
 "metadata": {
  "language_info": {
   "name": "python"
  }
 },
 "nbformat": 4,
 "nbformat_minor": 5
}
