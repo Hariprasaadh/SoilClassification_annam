{
 "cells": [
  {
   "cell_type": "code",
   "execution_count": null,
   "id": "965850f3",
   "metadata": {
    "vscode": {
     "languageId": "plaintext"
    }
   },
   "outputs": [],
   "source": [
    "from sklearn.metrics.pairwise import cosine_similarity\n",
    "from scipy.spatial.distance import euclidean\n",
    "import numpy as np\n",
    "from PIL import Image\n",
    "from tensorflow.keras.applications import EfficientNetB3\n",
    "from tensorflow.keras.models import Model\n",
    "from tensorflow.keras.applications.efficientnet import preprocess_input\n",
    "\n",
    "# Load inference model\n",
    "base_model = EfficientNetB3(include_top=False, input_shape=(300, 300, 3), weights='imagenet', pooling='avg')\n",
    "model = Model(inputs=base_model.input, outputs=base_model.output)\n",
    "\n",
    "# Load stats\n",
    "mean_vec = np.load(\"mean_vec.npy\")\n",
    "inv_cov_matrix = np.load(\"inv_cov_matrix.npy\")\n",
    "soil_features = np.load(\"soil_features.npy\")\n",
    "\n",
    "# Compute Mahalanobis distance\n",
    "def mahalanobis_distance(x, mean_vec, inv_cov_matrix):\n",
    "    delta = x - mean_vec\n",
    "    return np.sqrt(np.dot(np.dot(delta, inv_cov_matrix), delta.T))\n",
    "\n",
    "# Compute thresholds from training features\n",
    "mahal_distances = np.array([mahalanobis_distance(f, mean_vec, inv_cov_matrix) for f in soil_features])\n",
    "mahal_thresh = np.percentile(mahal_distances, 95)\n",
    "\n",
    "cosine_similarities = cosine_similarity([mean_vec], soil_features)[0]\n",
    "cosine_thresh = np.percentile(cosine_similarities, 5)  # Lower means more anomalous\n",
    "\n",
    "euclid_dists = np.array([euclidean(f, mean_vec) for f in soil_features])\n",
    "euclid_thresh = np.percentile(euclid_dists, 95)\n",
    "\n",
    "# Inference function\n",
    "def classify_image(img_path):\n",
    "    img = Image.open(img_path).convert(\"RGB\").resize((300, 300))\n",
    "    img_array = np.array(img) / 255.0\n",
    "    img_array = preprocess_input(img_array)\n",
    "    img_array = np.expand_dims(img_array, axis=0)\n",
    "    feature = model.predict(img_array, verbose=0).squeeze()\n",
    "\n",
    "    m_dist = mahalanobis_distance(feature, mean_vec, inv_cov_matrix)\n",
    "    c_sim = cosine_similarity([feature], [mean_vec])[0][0]\n",
    "    e_dist = euclidean(feature, mean_vec)\n",
    "\n",
    "    is_soil = (m_dist < mahal_thresh) and (c_sim > cosine_thresh) and (e_dist < euclid_thresh)\n",
    "    return \"SOIL\" if is_soil else \"NON-SOIL\", {\n",
    "        \"mahalanobis\": m_dist,\n",
    "        \"cosine_similarity\": c_sim,\n",
    "        \"euclidean\": e_dist\n",
    "    }\n",
    "\n",
    "# Example\n",
    "label, metrics = classify_image(\"test_images/sample.jpg\")\n",
    "print(f\"Predicted Label: {label}\")\n",
    "print(\"Metrics:\", metrics)\n"
   ]
  }
 ],
 "metadata": {
  "language_info": {
   "name": "python"
  }
 },
 "nbformat": 4,
 "nbformat_minor": 5
}
