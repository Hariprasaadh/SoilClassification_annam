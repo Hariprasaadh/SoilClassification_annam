{
 "cells": [
  {
   "cell_type": "code",
   "execution_count": null,
   "id": "e56115cd",
   "metadata": {
    "vscode": {
     "languageId": "plaintext"
    }
   },
   "outputs": [],
   "source": [
    "import os\n",
    "import numpy as np\n",
    "import pandas as pd\n",
    "from PIL import Image\n",
    "from tqdm import tqdm\n",
    "import tensorflow as tf\n",
    "from tensorflow.keras.applications import EfficientNetB3\n",
    "from tensorflow.keras.models import Model\n",
    "from tensorflow.keras.applications.efficientnet import preprocess_input\n",
    "\n",
    "# Constants\n",
    "IMAGE_SIZE = (300, 300)\n",
    "BATCH_SIZE = 32\n",
    "DATA_DIR = 'train_images/'  # Only SOIL images available\n",
    "\n",
    "# Load image filenames\n",
    "image_paths = [os.path.join(DATA_DIR, fname) for fname in os.listdir(DATA_DIR) if fname.lower().endswith(('.jpg', '.png', '.jpeg'))]\n",
    "\n",
    "# Load EfficientNetB3 base model for feature extraction\n",
    "base_model = EfficientNetB3(include_top=False, input_shape=(300, 300, 3), weights='imagenet', pooling='avg')\n",
    "model = Model(inputs=base_model.input, outputs=base_model.output)\n",
    "\n",
    "# Extract features from soil images\n",
    "def extract_features(image_paths):\n",
    "    features = []\n",
    "    for path in tqdm(image_paths):\n",
    "        img = Image.open(path).convert(\"RGB\").resize(IMAGE_SIZE)\n",
    "        img_array = np.array(img) / 255.0\n",
    "        img_array = preprocess_input(img_array)\n",
    "        img_array = np.expand_dims(img_array, axis=0)\n",
    "        feat = model.predict(img_array, verbose=0)\n",
    "        features.append(feat.squeeze())\n",
    "    return np.array(features)\n",
    "\n",
    "soil_features = extract_features(image_paths)\n",
    "\n",
    "# Compute training distribution stats\n",
    "mean_vec = np.mean(soil_features, axis=0)\n",
    "cov_matrix = np.cov(soil_features, rowvar=False)\n",
    "inv_cov_matrix = np.linalg.pinv(cov_matrix)\n",
    "\n",
    "# Save stats for inference\n",
    "np.save(\"mean_vec.npy\", mean_vec)\n",
    "np.save(\"inv_cov_matrix.npy\", inv_cov_matrix)\n",
    "np.save(\"soil_features.npy\", soil_features)\n"
   ]
  }
 ],
 "metadata": {
  "language_info": {
   "name": "python"
  }
 },
 "nbformat": 4,
 "nbformat_minor": 5
}
