{
 "cells": [
  {
   "cell_type": "code",
   "execution_count": null,
   "id": "3cca05c3",
   "metadata": {
    "vscode": {
     "languageId": "plaintext"
    }
   },
   "outputs": [],
   "source": [
    "import numpy as np\n",
    "from tensorflow.keras.models import load_model\n",
    "from tensorflow.keras.preprocessing import image\n",
    "\n",
    "# Load trained model\n",
    "model = load_model('best_model.h5')\n",
    "\n",
    "# Load label classes\n",
    "class_names = np.load(\"label_classes.npy\", allow_pickle=True)\n",
    "\n",
    "def preprocess_image(img_path):\n",
    "    img = image.load_img(img_path, target_size=(300, 300))\n",
    "    img_array = image.img_to_array(img) / 255.0\n",
    "    img_array = np.expand_dims(img_array, axis=0)\n",
    "    return img_array\n",
    "\n",
    "def predict_image(img_path):\n",
    "    img_array = preprocess_image(img_path)\n",
    "    preds = model.predict(img_array)[0]\n",
    "    predicted_class = class_names[np.argmax(preds)]\n",
    "    confidence = np.max(preds)\n",
    "    return predicted_class, confidence\n",
    "\n",
    "# Example usage\n",
    "img_path = \"test_images/sample.jpg\"\n",
    "label, conf = predict_image(img_path)\n",
    "print(f\"Predicted class: {label}, Confidence: {conf:.2f}\")\n"
   ]
  }
 ],
 "metadata": {
  "language_info": {
   "name": "python"
  }
 },
 "nbformat": 4,
 "nbformat_minor": 5
}
