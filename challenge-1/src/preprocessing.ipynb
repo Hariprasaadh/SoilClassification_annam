{
 "cells": [
  {
   "cell_type": "code",
   "execution_count": null,
   "id": "35269e73",
   "metadata": {
    "vscode": {
     "languageId": "plaintext"
    }
   },
   "outputs": [],
   "source": [
    "import os\n",
    "import numpy as np\n",
    "import pandas as pd\n",
    "from sklearn.model_selection import train_test_split\n",
    "from tensorflow.keras.preprocessing.image import ImageDataGenerator\n",
    "from sklearn.preprocessing import LabelEncoder\n",
    "from tensorflow.keras.utils import to_categorical\n",
    "from PIL import Image\n",
    "\n",
    "# Load metadata CSV\n",
    "df = pd.read_csv(\"labels.csv\")  # should have 'filename' and 'label' columns\n",
    "\n",
    "# Encode labels\n",
    "le = LabelEncoder()\n",
    "df['encoded_label'] = le.fit_transform(df['label'])\n",
    "df['encoded_label_cat'] = to_categorical(df['encoded_label']).tolist()\n",
    "\n",
    "# Stratified train-validation split\n",
    "train_df, val_df = train_test_split(df, test_size=0.2, stratify=df['encoded_label'], random_state=42)\n",
    "\n",
    "# ImageDataGenerator with augmentations\n",
    "train_datagen = ImageDataGenerator(\n",
    "    rescale=1./255,\n",
    "    rotation_range=20,\n",
    "    width_shift_range=0.1,\n",
    "    height_shift_range=0.1,\n",
    "    horizontal_flip=True,\n",
    "    vertical_flip=True,\n",
    "    brightness_range=[0.8, 1.2]\n",
    ")\n",
    "\n",
    "val_datagen = ImageDataGenerator(rescale=1./255)\n",
    "\n",
    "# Flow from dataframe\n",
    "train_generator = train_datagen.flow_from_dataframe(\n",
    "    dataframe=train_df,\n",
    "    directory='train_images/',\n",
    "    x_col='filename',\n",
    "    y_col='label',\n",
    "    target_size=(300, 300),\n",
    "    class_mode='categorical',\n",
    "    batch_size=32,\n",
    "    shuffle=True\n",
    ")\n",
    "\n",
    "val_generator = val_datagen.flow_from_dataframe(\n",
    "    dataframe=val_df,\n",
    "    directory='train_images/',\n",
    "    x_col='filename',\n",
    "    y_col='label',\n",
    "    target_size=(300, 300),\n",
    "    class_mode='categorical',\n",
    "    batch_size=32,\n",
    "    shuffle=False\n",
    ")\n",
    "\n",
    "# Save label mapping for inference\n",
    "np.save(\"label_classes.npy\", le.classes_)\n"
   ]
  }
 ],
 "metadata": {
  "language_info": {
   "name": "python"
  }
 },
 "nbformat": 4,
 "nbformat_minor": 5
}
